{
 "cells": [
  {
   "cell_type": "markdown",
   "id": "5cd25c20-1c31-486d-b660-132bab3dbffb",
   "metadata": {},
   "source": [
    "## Final Project"
   ]
  },
  {
   "cell_type": "markdown",
   "id": "369c78cc-61f5-4252-825e-2b63f8fa224d",
   "metadata": {},
   "source": [
    "This is the final project offerred by the coursera"
   ]
  },
  {
   "cell_type": "markdown",
   "id": "9b7b16f0-b7ed-401b-9658-8cc92b917682",
   "metadata": {},
   "source": [
    "## Data Science Languages\n",
    "\n",
    "- Python\n",
    "- R\n",
    "- SQL\n",
    "- Julia\n",
    "- Java\n",
    "- Scala\n",
    "- MATLAB\n"
   ]
  },
  {
   "cell_type": "markdown",
   "id": "f5572ed7-0914-4605-befc-a2539020427c",
   "metadata": {},
   "source": [
    "## Data Science Libraries\n",
    "\n",
    "- NumPy\n",
    "- Pandas\n",
    "- Matplotlib\n",
    "- Seaborn\n",
    "- SciPy\n",
    "- Scikit-learn\n",
    "- TensorFlow\n",
    "- Keras\n",
    "- PyTorch\n",
    "- Statsmodels\n"
   ]
  },
  {
   "cell_type": "markdown",
   "id": "5215a1c2-8194-4fe1-a452-f58774f74e35",
   "metadata": {},
   "source": [
    "## Data Science Tools\n",
    "\n",
    "| Tool             | Description                               |\n",
    "|------------------|-------------------------------------------|\n",
    "| Jupyter Notebook | An open-source web application for coding and visualization |\n",
    "| RStudio          | IDE for R programming                     |\n",
    "| Apache Hadoop    | Framework for distributed storage and processing of large datasets |\n",
    "| TensorFlow       | Open-source library for machine learning and deep learning |\n",
    "| Apache Spark     | Cluster-computing framework for big data processing |\n",
    "\n",
    "                                                "
   ]
  },
  {
   "cell_type": "markdown",
   "id": "38184c5e-c664-416a-a61b-9e1a004c62d7",
   "metadata": {},
   "source": [
    "## Arithmetic Expression Examples\n",
    "\n",
    "Arithmetic expressions perform mathematical operations such as addition, subtraction, multiplication, and division.\n",
    "\n",
    "Examples:\n",
    "\n",
    "- **Addition**: (2 + 1) = 3\n",
    "- **Subtraction**: (5 - 2) = 3\n",
    "- **Multiplication**: (4 * 3) = 12\n",
    "- **Division**: (10 / 2) = 5\n"
   ]
  },
  {
   "cell_type": "code",
   "execution_count": 9,
   "id": "ab85c88f-7107-4a14-9089-2a2db14950dc",
   "metadata": {},
   "outputs": [
    {
     "data": {
      "text/plain": [
       "3"
      ]
     },
     "execution_count": 9,
     "metadata": {},
     "output_type": "execute_result"
    }
   ],
   "source": [
    "# Example of addition\n",
    "2 + 1\n"
   ]
  },
  {
   "cell_type": "code",
   "execution_count": 10,
   "id": "f1465822-b27c-451d-a978-7121b81fba8f",
   "metadata": {},
   "outputs": [
    {
     "name": "stdout",
     "output_type": "stream",
     "text": [
      "120 minutes is equal to 2.0 hours.\n"
     ]
    }
   ],
   "source": [
    "# Convert minutes to hours\n",
    "minutes = 120  # You can change this value to any number of minutes\n",
    "hours = minutes / 60\n",
    "print(f\"{minutes} minutes is equal to {hours} hours.\")\n"
   ]
  },
  {
   "cell_type": "markdown",
   "id": "d8495973-0e7b-46e4-885b-4d712eecf7e6",
   "metadata": {},
   "source": [
    "## Objectives\n",
    "\n",
    "- Learn how to use Jupyter Notebook.\n",
    "- Practice basic Python programming.\n",
    "- Perform web scraping to extract data.\n",
    "- Visualize stock data using graphs.\n"
   ]
  },
  {
   "cell_type": "markdown",
   "id": "1f9c31bc-311f-4b35-919a-62eea977f4c3",
   "metadata": {},
   "source": [
    "## Author\n",
    "\n",
    "[Your Name]\n"
   ]
  },
  {
   "cell_type": "code",
   "execution_count": 11,
   "id": "89581b87-b8c7-4658-8683-7cd9923d5389",
   "metadata": {},
   "outputs": [
    {
     "ename": "SyntaxError",
     "evalue": "invalid syntax (3285892490.py, line 3)",
     "output_type": "error",
     "traceback": [
      "\u001b[0;36m  Cell \u001b[0;32mIn[11], line 3\u001b[0;36m\u001b[0m\n\u001b[0;31m    You can find the notebook at this [link](https://github.com/your-repository-link).\u001b[0m\n\u001b[0m        ^\u001b[0m\n\u001b[0;31mSyntaxError\u001b[0m\u001b[0;31m:\u001b[0m invalid syntax\n"
     ]
    }
   ],
   "source": [
    "## GitHub Repository\n",
    "\n",
    "You can find the notebook at this [link](https://github.com/your-repository-link).\n"
   ]
  }
 ],
 "metadata": {
  "kernelspec": {
   "display_name": "Python 3 (ipykernel)",
   "language": "python",
   "name": "python3"
  },
  "language_info": {
   "codemirror_mode": {
    "name": "ipython",
    "version": 3
   },
   "file_extension": ".py",
   "mimetype": "text/x-python",
   "name": "python",
   "nbconvert_exporter": "python",
   "pygments_lexer": "ipython3",
   "version": "3.11.9"
  }
 },
 "nbformat": 4,
 "nbformat_minor": 5
}
